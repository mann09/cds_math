{
  "nbformat": 4,
  "nbformat_minor": 0,
  "metadata": {
    "colab": {
      "provenance": [],
      "include_colab_link": true
    },
    "kernelspec": {
      "display_name": "Python 3",
      "language": "python",
      "name": "python3"
    },
    "language_info": {
      "codemirror_mode": {
        "name": "ipython",
        "version": 3
      },
      "file_extension": ".py",
      "mimetype": "text/x-python",
      "name": "python",
      "nbconvert_exporter": "python",
      "pygments_lexer": "ipython3",
      "version": "3.8.5"
    }
  },
  "cells": [
    {
      "cell_type": "markdown",
      "metadata": {
        "id": "view-in-github",
        "colab_type": "text"
      },
      "source": [
        "<a href=\"https://colab.research.google.com/github/mann09/cds_math/blob/main/M1_AST_05_Solving_Linear_Equations.ipynb\" target=\"_parent\"><img src=\"https://colab.research.google.com/assets/colab-badge.svg\" alt=\"Open In Colab\"/></a>"
      ]
    },
    {
      "cell_type": "markdown",
      "metadata": {
        "id": "xOJ9npnFEi-d"
      },
      "source": [
        "### Assignment: Solving linear equations"
      ]
    },
    {
      "cell_type": "markdown",
      "metadata": {
        "id": "CBkjMtSgFBuv"
      },
      "source": [
        "## Learning Objectives"
      ]
    },
    {
      "cell_type": "markdown",
      "metadata": {
        "id": "FpfeKNyLFEbX"
      },
      "source": [
        "At the end of the experiment, you will be able to :\n",
        "\n",
        "* use computational techniques and algebraic skills essential for the study of systems of linear equations\n",
        "* use Python libraries, eg. Numpy's `linalg.solve` and Scipy's `scipy.linalg`, to solve linear equation based operations\n",
        "* model practical problems using linear systems\n"
      ]
    },
    {
      "cell_type": "markdown",
      "source": [
        "## Introduction"
      ],
      "metadata": {
        "id": "SWlABNsC5dyr"
      }
    },
    {
      "cell_type": "markdown",
      "source": [
        "Linear equations are formalizations of the relationship between variables. It is also possible to consider more than one linear equation using the same variables: this is *a system of equations*.\n",
        "\n",
        "A **system of equations** is a set of equations describing the relationship between variables. For instance, let’s consider the following example:\n",
        "$$y = 2x + 1$$\n",
        "$$y = -0.5x + 3$$\n",
        "\n",
        "We have two linear equations and they both characterize the relationship between the variables x and y. This is a system with two equations and two variables.\n",
        "\n",
        "We can convert the two equations into a single vector equation as follows:\n",
        "<br><br>\n",
        "<center>\n",
        "<img src=\"https://cdn.iisc.talentsprint.com/CDS/Images/eqn_to_vector.png\" width = 700 px />\n",
        "</center>\n",
        "\n",
        "For further understanding, refer [here](https://towardsdatascience.com/how-do-you-use-numpy-scipy-and-sympy-to-solve-systems-of-linear-equations-9afed2c388af).\n",
        "<br><br>\n",
        "\n",
        "Also, linear systems of equations can have either:\n",
        "- No solution\n",
        "- One solution\n",
        "- An infinite number of solutions\n",
        "<br><br>\n",
        "<center>\n",
        "<img src=\"https://cdn.iisc.talentsprint.com/CDS/Images/diff_solns_for_linear_eqns.png\" width=800 px />\n",
        "</center>\n",
        "\n",
        "For further understanding, refer [here](https://www.math.ucla.edu/~archristian/notes/linear-algebra/systems-of-linear-equations.pdf).\n"
      ],
      "metadata": {
        "id": "jWizvsArblrN"
      }
    },
    {
      "cell_type": "markdown",
      "metadata": {
        "id": "BNLA8HiKxQhc"
      },
      "source": [
        "### Setup Steps:"
      ]
    },
    {
      "cell_type": "markdown",
      "source": [
        "### Import required packages"
      ],
      "metadata": {
        "id": "zr_7IUx65mBT"
      }
    },
    {
      "cell_type": "code",
      "source": [
        "import numpy as np\n",
        "from scipy.linalg import solve"
      ],
      "metadata": {
        "id": "YWc5TxxW5sv1"
      },
      "execution_count": null,
      "outputs": []
    },
    {
      "cell_type": "markdown",
      "metadata": {
        "id": "5LZW5DGGLu9J"
      },
      "source": [
        "### Solving Systems of Linear Equations with Python's Numpy"
      ]
    },
    {
      "cell_type": "markdown",
      "metadata": {
        "id": "26EVKtVQL2UC"
      },
      "source": [
        "The ultimate goal of solving a system of linear equations is to find the values of the unknown variables.\n",
        "\n",
        "The Numpy library contains the `linalg.solve()` method, which can be used to directly find the solution of a system of linear equations."
      ]
    },
    {
      "cell_type": "markdown",
      "metadata": {
        "id": "1Vwzwd54MNAH"
      },
      "source": [
        "#### Solve a system of three linear equations, as shown below:\n",
        "\n",
        "$$4x + 3y + 2z = 25$$\n",
        "\n",
        "$$-2x + 2y + 3z = -10$$\n",
        "\n",
        "$$3x -5y + 2z = -4$$\n",
        "\n",
        "\n",
        "We can express this system as a matrix equation $A\\ *$ X $= b$"
      ]
    },
    {
      "cell_type": "code",
      "metadata": {
        "id": "HI1ljLOFSbF8",
        "colab": {
          "base_uri": "https://localhost:8080/"
        },
        "outputId": "6bf920b4-52f6-4c10-df18-ea9074599fc7"
      },
      "source": [
        "# defining the coefficient matrix\n",
        "A = np.array([[4, 3, 2],\n",
        "              [-2, 2, 3],\n",
        "              [3, -5, 2]])\n",
        "\n",
        "# defining the constant value matrix\n",
        "B = np.array([25, -10, -4])\n",
        "\n",
        "# use np.linalg.solve to solve for x\n",
        "X1 = np.linalg.solve(A, B)\n",
        "\n",
        "# displaying the value of x, y and z\n",
        "print(X1)"
      ],
      "execution_count": null,
      "outputs": [
        {
          "output_type": "stream",
          "name": "stdout",
          "text": [
            "[ 5.  3. -2.]\n"
          ]
        }
      ]
    },
    {
      "cell_type": "markdown",
      "metadata": {
        "id": "5htjiQ0KUBXd"
      },
      "source": [
        "#### Consider the following three equations and solve:\n",
        "\n",
        "$x_0 + 2 \\times x_1 + x_2 = 4$\n",
        "\n",
        "$x_1 + x_2 = 3$\n",
        "\n",
        "$x_0 + x_2 = 5$"
      ]
    },
    {
      "cell_type": "code",
      "metadata": {
        "id": "5gqTrjh-M33C"
      },
      "source": [
        "# defining the coefficient matrix\n",
        "A = np.array([[1, 2, 1],\n",
        "              [0, 1, 1],\n",
        "              [1, 0, 1]])\n",
        "# defining the constant value matrix\n",
        "b = np.array([4, 3, 5])"
      ],
      "execution_count": null,
      "outputs": []
    },
    {
      "cell_type": "code",
      "metadata": {
        "id": "4mpvUDVZUoJU",
        "colab": {
          "base_uri": "https://localhost:8080/"
        },
        "outputId": "6019d2af-c83d-47fb-f2c4-9608092f4c5e"
      },
      "source": [
        "# use np.linalg.solve to solve for x\n",
        "x = np.linalg.solve(A, b)\n",
        "\n",
        "print(x)"
      ],
      "execution_count": null,
      "outputs": [
        {
          "output_type": "stream",
          "name": "stdout",
          "text": [
            "[ 1.5 -0.5  3.5]\n"
          ]
        }
      ]
    },
    {
      "cell_type": "markdown",
      "source": [
        "### `numpy.linalg` vs `scipy.linalg`\n",
        "\n",
        "NumPy includes some tools for working with linear algebra applications in the numpy.linalg module. However, its typically better to use scipy.linalg for the following reasons:\n",
        "\n",
        "- scipy.linalg contains all the functions in numpy.linalg plus some extra advanced functions not included in numpy.linalg.\n",
        "\n",
        "- scipy.linalg is always compiled with support from libraries including routines for performing numerical operations in an optimized way, whereas for numpy.linalg, the use of these libraries (BLAS and LAPACK) is optional. Thus, depending on how you install NumPy, scipy.linalg functions might be faster than the ones from numpy.linalg.\n",
        "\n",
        "So, in conclusion, considering that scientific and technical applications generally don’t have restrictions regarding dependencies, it’s generally a good idea to install SciPy and use scipy.linalg instead of numpy.linalg.\n",
        "\n",
        "In the following section, we will use scipy.linalg tools to work with linear systems. We will begin by going through the basics with a straightforward example, and then apply the concepts to a practical problem."
      ],
      "metadata": {
        "id": "pSi7myFry9a1"
      }
    },
    {
      "cell_type": "markdown",
      "source": [
        "### Solve linear system of equations using `scipy.linalg.solve()`"
      ],
      "metadata": {
        "id": "-YuJx0cl0Cbu"
      }
    },
    {
      "cell_type": "markdown",
      "source": [
        "Linear systems are a useful tool for finding the solution to several important practical problems, including problems related to vehicle traffic, balancing chemical equations, electrical circuits, and polynomial interpolation.\n",
        "\n",
        "Practical applications generally involve a large number of variables, which makes it infeasible to solve linear systems manually. Luckily, there are some tools that can do this hard work, such as `scipy.linalg.solve()`.\n",
        "\n",
        "SciPy provides `scipy.linalg.solve()` to solve linear systems quickly and in a reliable way. Let's see how it works.\n",
        "\n",
        "Consider the following system:\n",
        "$$3x_1 + 2x_2 = 12$$\n",
        "$$2x_1 - 1x_2 = 1$$\n",
        "\n",
        "In order to use `scipy.linalg.solve()`, we first need to write the linear system as a matrix product:\n",
        "$$\\underbrace{\\begin{bmatrix}3 & 2\\\\2 & -1\\end{bmatrix}}_{\\text{A}} . \\underbrace{\\begin{bmatrix} x_1 \\\\ x_2\\end{bmatrix}}_{\\text{x}} = \\underbrace{\\begin{bmatrix} 12 \\\\ 1\\end{bmatrix}}_{\\text{b}}$$\n",
        "\n",
        "Note that we will arrive at the original equations of the system after calculating the matrix product.\n",
        "\n",
        "The inputs `scipy.linalg.solve()` expects to solve are the matrix A and the vector b, which we can define using NumPy arrays. This way, we can solve the system using the following code:"
      ],
      "metadata": {
        "id": "3T0PhnA60kpt"
      }
    },
    {
      "cell_type": "code",
      "source": [
        "from scipy.linalg import solve\n",
        "\n",
        "# Create the coefficients matrix using a NumPy array\n",
        "A = np.array([[3, 2],\n",
        "              [2, -1]])\n",
        "\n",
        "# Create the independent terms vector\n",
        "# To make it a column vector with two lines, we use .reshape((2, 1))\n",
        "b = np.array([12, 1]).reshape((2, 1))\n",
        "\n",
        "# Solve the linear system characterized by A and b\n",
        "x = solve(A, b)\n",
        "x"
      ],
      "metadata": {
        "id": "r0Upmo0XAfWE",
        "colab": {
          "base_uri": "https://localhost:8080/"
        },
        "outputId": "9115f3ee-4f8c-434b-e96d-3247b2e4791b"
      },
      "execution_count": null,
      "outputs": [
        {
          "output_type": "execute_result",
          "data": {
            "text/plain": [
              "array([[2.],\n",
              "       [3.]])"
            ]
          },
          "metadata": {},
          "execution_count": 5
        }
      ]
    },
    {
      "cell_type": "code",
      "source": [
        "b"
      ],
      "metadata": {
        "colab": {
          "base_uri": "https://localhost:8080/"
        },
        "id": "na0FuR4XlhOA",
        "outputId": "d87794c5-1ac7-402b-e15a-19e7a02dce1a"
      },
      "execution_count": null,
      "outputs": [
        {
          "output_type": "execute_result",
          "data": {
            "text/plain": [
              "array([[12],\n",
              "       [ 1]])"
            ]
          },
          "metadata": {},
          "execution_count": 6
        }
      ]
    },
    {
      "cell_type": "markdown",
      "source": [
        "We can verify the solution to the system by replacing $x_1 = 2$ and $x_2 = 3$ in the original equations.\n",
        "\n",
        "Now, let's see a practical application of linear systems."
      ],
      "metadata": {
        "id": "RZQL9aXHBEZT"
      }
    },
    {
      "cell_type": "markdown",
      "source": [
        "### Building a Meal Plan"
      ],
      "metadata": {
        "id": "wWUvfz_RCmad"
      }
    },
    {
      "cell_type": "markdown",
      "source": [
        "Here we will find the proportions of components needed to obtain a certain mixture, by solving with a system of linear equations. Here we will build a meal plan, mixing different foods in order to get a balanced diet.\n",
        "\n",
        "For that, consider that a balanced diet should include the following:\n",
        "\n",
        "- 170 units of vitamin A\n",
        "- 180 units of vitamin B\n",
        "- 140 units of vitamin C\n",
        "- 180 units of vitamin D\n",
        "- 350 units of vitamin E\n",
        "\n",
        "The task is to find the quantities of each different food in order to obtain the specified amount of vitamins. In the following table, we have the results of analyzing one gram of each food in terms of units of each vitamin:\n",
        "\n",
        "|Food | Vitamin A| Vitamin B| Vitamin C | Vitamin D | Vitamin E|\n",
        "|----|----|-------|-------|-------|-----|\n",
        "| #1 | 1 | 10 | 1 | 2 | 2 |\n",
        "| #2 | 9 | 1 | 0 | 1 | 1 |\n",
        "| #3 | 2 | 2 | 5 | 1 | 2 |\n",
        "| #4 | 1 | 1 | 1 | 2 | 13 |\n",
        "| #5 | 1 | 1 | 1 | 9 | 2 |\n",
        "<br>\n",
        "\n",
        "By denoting food 1 as $x_1$ and so on, and considering that we will mix $x_1$ units of food 1, $x_2$ units of food 2, and so on, we can write an expression for the amount of vitamin A that we would get in the combination.\n",
        "\n",
        "Considering a balanced diet should include 170 units of vitamin A, we can use the data from the Vitamin A column to write the following equation:\n",
        "$$x_1 + 9x_2 + 2x_3 + x_4 + x_5 = 170$$\n",
        "\n",
        "Repeating the same procedure for vitamins B, C, D, and E, we arrive at the following linear system:\n",
        "$$\\ x_1 + 9x_2 + 2x_3 + x_4 + x_5 = 170$$\n",
        "$$10x_1 + x_2 + 2x_3 + x_4 + x_5 = 180$$\n",
        "$$\\ \\ \\ \\ \\ \\ \\ \\ \\ \\ \\ \\ \\ x_1 + 5x_3 + x_4 + x_5 = 140$$\n",
        "$$2x_1 + x_2 + x_3 + 2x_4 + 9x_5 = 180$$\n",
        "$$2x_1 + x_2 + 2x_3 + 13x_4 + 2x_5 = 350 \\ \\ \\ \\ $$\n",
        "\n",
        "To use `scipy.linalg.solve()`, we have to obtain the coefficients matrix A and the independent terms vector b, which are given by the following:\n",
        "\n",
        "$$\\underbrace{\\begin{bmatrix}1 & 9 & 2 & 1 & 1\\\\10 & 1 & 2 & 1 & 1\\\\1 & 0 & 5 & 1 & 1\\\\2 & 1 & 1 & 2 & 9\\\\2 & 1 & 2 & 13 & 2\\end{bmatrix}}_{\\text{A}} . \\underbrace{\\begin{bmatrix} x_1 \\\\ x_2\\\\ x_3\\\\ x_4\\\\ x_5\\end{bmatrix}}_{\\text{x}} = \\underbrace{\\begin{bmatrix} 170 \\\\ 180\\\\ 140\\\\ 180\\\\ 350\\end{bmatrix}}_{\\text{b}}$$\n",
        "\n",
        "Now we just have to use `scipy.linalg.solve()` to find out the quantities $x_1, x_2, ..., x_5$:"
      ],
      "metadata": {
        "id": "b5GyRdNHCrbV"
      }
    },
    {
      "cell_type": "code",
      "source": [
        "# Create the coefficients matrix\n",
        "A = np.array([[1, 9, 2, 1, 1],\n",
        "              [10, 1, 2, 1, 1],\n",
        "              [1, 0, 5, 1, 1],\n",
        "              [2, 1, 1, 2, 9],\n",
        "              [2, 1, 2, 13, 2]\n",
        "              ])\n",
        "\n",
        "# Create the independent terms vector\n",
        "b = np.array([170, 180, 140, 180, 350]).reshape((5, 1))\n",
        "\n",
        "x = solve(A, b)\n",
        "x"
      ],
      "metadata": {
        "id": "62LNR4BCYugF",
        "colab": {
          "base_uri": "https://localhost:8080/"
        },
        "outputId": "f2879bda-6f9f-4058-94c9-5705525bca4c"
      },
      "execution_count": null,
      "outputs": [
        {
          "output_type": "execute_result",
          "data": {
            "text/plain": [
              "array([[10.],\n",
              "       [10.],\n",
              "       [20.],\n",
              "       [20.],\n",
              "       [10.]])"
            ]
          },
          "metadata": {},
          "execution_count": 7
        }
      ]
    },
    {
      "cell_type": "markdown",
      "source": [
        "This indicates that a balanced diet should include\n",
        "- 10 units of food 1,\n",
        "- 10 units of food 2,\n",
        "- 20 units of food 3,\n",
        "- 20 units of food 4, and\n",
        "- 10 units of food 5.\n",
        "\n"
      ],
      "metadata": {
        "id": "fxdrkJawYvOc"
      }
    },
    {
      "cell_type": "markdown",
      "metadata": {
        "id": "VHfHdGCP_n6Y"
      },
      "source": [
        "### Please answer the questions below to complete the experiment:\n",
        "\n",
        "\n"
      ]
    },
    {
      "cell_type": "markdown",
      "source": [
        "Consider the following systems of linear equations:\n",
        "\n",
        "(a)\n",
        "\n",
        "$\\quad x + y = 12$\n",
        "\n",
        "$\\quad 3x + 3y = 36$\n",
        "\n",
        "(b)\n",
        "\n",
        "$\\quad 2x + 4y = 8$\n",
        "\n",
        "$\\quad 4x + 2y = 10$\n",
        "\n",
        "(C)\n",
        "\n",
        "$\\quad 2x + 3y + z = 6$\n",
        "\n",
        "$\\quad x + y + z = 17$\n",
        "\n",
        "$\\quad 4x + 6y + 2z = 13$"
      ],
      "metadata": {
        "id": "1ElnC9BZFidb"
      }
    },
    {
      "cell_type": "code",
      "source": [
        "a=np.array([[1,1],\n",
        "            [3,3]])\n",
        "d=np.array([12,36])\n",
        "\n",
        "sol_a = np.linalg.solve(a, d)\n",
        "\n",
        "print(sol_a)\n"
      ],
      "metadata": {
        "colab": {
          "base_uri": "https://localhost:8080/",
          "height": 395
        },
        "id": "eNqQeRgkl_Oz",
        "outputId": "d85931ae-6521-462d-bbf5-3fc79cdadc7d"
      },
      "execution_count": null,
      "outputs": [
        {
          "output_type": "error",
          "ename": "LinAlgError",
          "evalue": "ignored",
          "traceback": [
            "\u001b[0;31m---------------------------------------------------------------------------\u001b[0m",
            "\u001b[0;31mLinAlgError\u001b[0m                               Traceback (most recent call last)",
            "\u001b[0;32m<ipython-input-8-f303c464cdb9>\u001b[0m in \u001b[0;36m<cell line: 5>\u001b[0;34m()\u001b[0m\n\u001b[1;32m      3\u001b[0m \u001b[0md\u001b[0m\u001b[0;34m=\u001b[0m\u001b[0mnp\u001b[0m\u001b[0;34m.\u001b[0m\u001b[0marray\u001b[0m\u001b[0;34m(\u001b[0m\u001b[0;34m[\u001b[0m\u001b[0;36m12\u001b[0m\u001b[0;34m,\u001b[0m\u001b[0;36m36\u001b[0m\u001b[0;34m]\u001b[0m\u001b[0;34m)\u001b[0m\u001b[0;34m\u001b[0m\u001b[0;34m\u001b[0m\u001b[0m\n\u001b[1;32m      4\u001b[0m \u001b[0;34m\u001b[0m\u001b[0m\n\u001b[0;32m----> 5\u001b[0;31m \u001b[0msol_a\u001b[0m \u001b[0;34m=\u001b[0m \u001b[0mnp\u001b[0m\u001b[0;34m.\u001b[0m\u001b[0mlinalg\u001b[0m\u001b[0;34m.\u001b[0m\u001b[0msolve\u001b[0m\u001b[0;34m(\u001b[0m\u001b[0ma\u001b[0m\u001b[0;34m,\u001b[0m \u001b[0md\u001b[0m\u001b[0;34m)\u001b[0m\u001b[0;34m\u001b[0m\u001b[0;34m\u001b[0m\u001b[0m\n\u001b[0m\u001b[1;32m      6\u001b[0m \u001b[0;34m\u001b[0m\u001b[0m\n\u001b[1;32m      7\u001b[0m \u001b[0mprint\u001b[0m\u001b[0;34m(\u001b[0m\u001b[0msol_a\u001b[0m\u001b[0;34m)\u001b[0m\u001b[0;34m\u001b[0m\u001b[0;34m\u001b[0m\u001b[0m\n",
            "\u001b[0;32m/usr/local/lib/python3.10/dist-packages/numpy/core/overrides.py\u001b[0m in \u001b[0;36msolve\u001b[0;34m(*args, **kwargs)\u001b[0m\n",
            "\u001b[0;32m/usr/local/lib/python3.10/dist-packages/numpy/linalg/linalg.py\u001b[0m in \u001b[0;36msolve\u001b[0;34m(a, b)\u001b[0m\n\u001b[1;32m    391\u001b[0m     \u001b[0msignature\u001b[0m \u001b[0;34m=\u001b[0m \u001b[0;34m'DD->D'\u001b[0m \u001b[0;32mif\u001b[0m \u001b[0misComplexType\u001b[0m\u001b[0;34m(\u001b[0m\u001b[0mt\u001b[0m\u001b[0;34m)\u001b[0m \u001b[0;32melse\u001b[0m \u001b[0;34m'dd->d'\u001b[0m\u001b[0;34m\u001b[0m\u001b[0;34m\u001b[0m\u001b[0m\n\u001b[1;32m    392\u001b[0m     \u001b[0mextobj\u001b[0m \u001b[0;34m=\u001b[0m \u001b[0mget_linalg_error_extobj\u001b[0m\u001b[0;34m(\u001b[0m\u001b[0m_raise_linalgerror_singular\u001b[0m\u001b[0;34m)\u001b[0m\u001b[0;34m\u001b[0m\u001b[0;34m\u001b[0m\u001b[0m\n\u001b[0;32m--> 393\u001b[0;31m     \u001b[0mr\u001b[0m \u001b[0;34m=\u001b[0m \u001b[0mgufunc\u001b[0m\u001b[0;34m(\u001b[0m\u001b[0ma\u001b[0m\u001b[0;34m,\u001b[0m \u001b[0mb\u001b[0m\u001b[0;34m,\u001b[0m \u001b[0msignature\u001b[0m\u001b[0;34m=\u001b[0m\u001b[0msignature\u001b[0m\u001b[0;34m,\u001b[0m \u001b[0mextobj\u001b[0m\u001b[0;34m=\u001b[0m\u001b[0mextobj\u001b[0m\u001b[0;34m)\u001b[0m\u001b[0;34m\u001b[0m\u001b[0;34m\u001b[0m\u001b[0m\n\u001b[0m\u001b[1;32m    394\u001b[0m \u001b[0;34m\u001b[0m\u001b[0m\n\u001b[1;32m    395\u001b[0m     \u001b[0;32mreturn\u001b[0m \u001b[0mwrap\u001b[0m\u001b[0;34m(\u001b[0m\u001b[0mr\u001b[0m\u001b[0;34m.\u001b[0m\u001b[0mastype\u001b[0m\u001b[0;34m(\u001b[0m\u001b[0mresult_t\u001b[0m\u001b[0;34m,\u001b[0m \u001b[0mcopy\u001b[0m\u001b[0;34m=\u001b[0m\u001b[0;32mFalse\u001b[0m\u001b[0;34m)\u001b[0m\u001b[0;34m)\u001b[0m\u001b[0;34m\u001b[0m\u001b[0;34m\u001b[0m\u001b[0m\n",
            "\u001b[0;32m/usr/local/lib/python3.10/dist-packages/numpy/linalg/linalg.py\u001b[0m in \u001b[0;36m_raise_linalgerror_singular\u001b[0;34m(err, flag)\u001b[0m\n\u001b[1;32m     86\u001b[0m \u001b[0;34m\u001b[0m\u001b[0m\n\u001b[1;32m     87\u001b[0m \u001b[0;32mdef\u001b[0m \u001b[0m_raise_linalgerror_singular\u001b[0m\u001b[0;34m(\u001b[0m\u001b[0merr\u001b[0m\u001b[0;34m,\u001b[0m \u001b[0mflag\u001b[0m\u001b[0;34m)\u001b[0m\u001b[0;34m:\u001b[0m\u001b[0;34m\u001b[0m\u001b[0;34m\u001b[0m\u001b[0m\n\u001b[0;32m---> 88\u001b[0;31m     \u001b[0;32mraise\u001b[0m \u001b[0mLinAlgError\u001b[0m\u001b[0;34m(\u001b[0m\u001b[0;34m\"Singular matrix\"\u001b[0m\u001b[0;34m)\u001b[0m\u001b[0;34m\u001b[0m\u001b[0;34m\u001b[0m\u001b[0m\n\u001b[0m\u001b[1;32m     89\u001b[0m \u001b[0;34m\u001b[0m\u001b[0m\n\u001b[1;32m     90\u001b[0m \u001b[0;32mdef\u001b[0m \u001b[0m_raise_linalgerror_nonposdef\u001b[0m\u001b[0;34m(\u001b[0m\u001b[0merr\u001b[0m\u001b[0;34m,\u001b[0m \u001b[0mflag\u001b[0m\u001b[0;34m)\u001b[0m\u001b[0;34m:\u001b[0m\u001b[0;34m\u001b[0m\u001b[0;34m\u001b[0m\u001b[0m\n",
            "\u001b[0;31mLinAlgError\u001b[0m: Singular matrix"
          ]
        }
      ]
    },
    {
      "cell_type": "code",
      "source": [
        "b=np.array([[2,4],\n",
        "            [4,2]])\n",
        "d=np.array([8,10])\n",
        "\n",
        "sol_b = np.linalg.solve(b, d)\n",
        "\n",
        "print(sol_b)\n"
      ],
      "metadata": {
        "id": "1mReSnv_mlNn"
      },
      "execution_count": null,
      "outputs": []
    },
    {
      "cell_type": "code",
      "source": [
        "c=np.array([[2,3,1],\n",
        "            [1,1,1],\n",
        "            [4,6,2]])\n",
        "f=np.array([6,17,13])\n",
        "\n",
        "sol_c = np.linalg.solve(c, f)\n",
        "\n",
        "print(sol_c)\n"
      ],
      "metadata": {
        "colab": {
          "base_uri": "https://localhost:8080/",
          "height": 395
        },
        "id": "EB2kF6G2mx81",
        "outputId": "c0172d9e-a6c7-4f6a-8ff0-e8f4890a050e"
      },
      "execution_count": null,
      "outputs": [
        {
          "output_type": "error",
          "ename": "LinAlgError",
          "evalue": "ignored",
          "traceback": [
            "\u001b[0;31m---------------------------------------------------------------------------\u001b[0m",
            "\u001b[0;31mLinAlgError\u001b[0m                               Traceback (most recent call last)",
            "\u001b[0;32m<ipython-input-24-0abd4fbceb56>\u001b[0m in \u001b[0;36m<cell line: 6>\u001b[0;34m()\u001b[0m\n\u001b[1;32m      4\u001b[0m \u001b[0mf\u001b[0m\u001b[0;34m=\u001b[0m\u001b[0mnp\u001b[0m\u001b[0;34m.\u001b[0m\u001b[0marray\u001b[0m\u001b[0;34m(\u001b[0m\u001b[0;34m[\u001b[0m\u001b[0;36m6\u001b[0m\u001b[0;34m,\u001b[0m\u001b[0;36m17\u001b[0m\u001b[0;34m,\u001b[0m\u001b[0;36m13\u001b[0m\u001b[0;34m]\u001b[0m\u001b[0;34m)\u001b[0m\u001b[0;34m\u001b[0m\u001b[0;34m\u001b[0m\u001b[0m\n\u001b[1;32m      5\u001b[0m \u001b[0;34m\u001b[0m\u001b[0m\n\u001b[0;32m----> 6\u001b[0;31m \u001b[0msol_c\u001b[0m \u001b[0;34m=\u001b[0m \u001b[0mnp\u001b[0m\u001b[0;34m.\u001b[0m\u001b[0mlinalg\u001b[0m\u001b[0;34m.\u001b[0m\u001b[0msolve\u001b[0m\u001b[0;34m(\u001b[0m\u001b[0mc\u001b[0m\u001b[0;34m,\u001b[0m \u001b[0mf\u001b[0m\u001b[0;34m)\u001b[0m\u001b[0;34m\u001b[0m\u001b[0;34m\u001b[0m\u001b[0m\n\u001b[0m\u001b[1;32m      7\u001b[0m \u001b[0;34m\u001b[0m\u001b[0m\n\u001b[1;32m      8\u001b[0m \u001b[0mprint\u001b[0m\u001b[0;34m(\u001b[0m\u001b[0msol_c\u001b[0m\u001b[0;34m)\u001b[0m\u001b[0;34m\u001b[0m\u001b[0;34m\u001b[0m\u001b[0m\n",
            "\u001b[0;32m/usr/local/lib/python3.10/dist-packages/numpy/core/overrides.py\u001b[0m in \u001b[0;36msolve\u001b[0;34m(*args, **kwargs)\u001b[0m\n",
            "\u001b[0;32m/usr/local/lib/python3.10/dist-packages/numpy/linalg/linalg.py\u001b[0m in \u001b[0;36msolve\u001b[0;34m(a, b)\u001b[0m\n\u001b[1;32m    391\u001b[0m     \u001b[0msignature\u001b[0m \u001b[0;34m=\u001b[0m \u001b[0;34m'DD->D'\u001b[0m \u001b[0;32mif\u001b[0m \u001b[0misComplexType\u001b[0m\u001b[0;34m(\u001b[0m\u001b[0mt\u001b[0m\u001b[0;34m)\u001b[0m \u001b[0;32melse\u001b[0m \u001b[0;34m'dd->d'\u001b[0m\u001b[0;34m\u001b[0m\u001b[0;34m\u001b[0m\u001b[0m\n\u001b[1;32m    392\u001b[0m     \u001b[0mextobj\u001b[0m \u001b[0;34m=\u001b[0m \u001b[0mget_linalg_error_extobj\u001b[0m\u001b[0;34m(\u001b[0m\u001b[0m_raise_linalgerror_singular\u001b[0m\u001b[0;34m)\u001b[0m\u001b[0;34m\u001b[0m\u001b[0;34m\u001b[0m\u001b[0m\n\u001b[0;32m--> 393\u001b[0;31m     \u001b[0mr\u001b[0m \u001b[0;34m=\u001b[0m \u001b[0mgufunc\u001b[0m\u001b[0;34m(\u001b[0m\u001b[0ma\u001b[0m\u001b[0;34m,\u001b[0m \u001b[0mb\u001b[0m\u001b[0;34m,\u001b[0m \u001b[0msignature\u001b[0m\u001b[0;34m=\u001b[0m\u001b[0msignature\u001b[0m\u001b[0;34m,\u001b[0m \u001b[0mextobj\u001b[0m\u001b[0;34m=\u001b[0m\u001b[0mextobj\u001b[0m\u001b[0;34m)\u001b[0m\u001b[0;34m\u001b[0m\u001b[0;34m\u001b[0m\u001b[0m\n\u001b[0m\u001b[1;32m    394\u001b[0m \u001b[0;34m\u001b[0m\u001b[0m\n\u001b[1;32m    395\u001b[0m     \u001b[0;32mreturn\u001b[0m \u001b[0mwrap\u001b[0m\u001b[0;34m(\u001b[0m\u001b[0mr\u001b[0m\u001b[0;34m.\u001b[0m\u001b[0mastype\u001b[0m\u001b[0;34m(\u001b[0m\u001b[0mresult_t\u001b[0m\u001b[0;34m,\u001b[0m \u001b[0mcopy\u001b[0m\u001b[0;34m=\u001b[0m\u001b[0;32mFalse\u001b[0m\u001b[0;34m)\u001b[0m\u001b[0;34m)\u001b[0m\u001b[0;34m\u001b[0m\u001b[0;34m\u001b[0m\u001b[0m\n",
            "\u001b[0;32m/usr/local/lib/python3.10/dist-packages/numpy/linalg/linalg.py\u001b[0m in \u001b[0;36m_raise_linalgerror_singular\u001b[0;34m(err, flag)\u001b[0m\n\u001b[1;32m     86\u001b[0m \u001b[0;34m\u001b[0m\u001b[0m\n\u001b[1;32m     87\u001b[0m \u001b[0;32mdef\u001b[0m \u001b[0m_raise_linalgerror_singular\u001b[0m\u001b[0;34m(\u001b[0m\u001b[0merr\u001b[0m\u001b[0;34m,\u001b[0m \u001b[0mflag\u001b[0m\u001b[0;34m)\u001b[0m\u001b[0;34m:\u001b[0m\u001b[0;34m\u001b[0m\u001b[0;34m\u001b[0m\u001b[0m\n\u001b[0;32m---> 88\u001b[0;31m     \u001b[0;32mraise\u001b[0m \u001b[0mLinAlgError\u001b[0m\u001b[0;34m(\u001b[0m\u001b[0;34m\"Singular matrix\"\u001b[0m\u001b[0;34m)\u001b[0m\u001b[0;34m\u001b[0m\u001b[0;34m\u001b[0m\u001b[0m\n\u001b[0m\u001b[1;32m     89\u001b[0m \u001b[0;34m\u001b[0m\u001b[0m\n\u001b[1;32m     90\u001b[0m \u001b[0;32mdef\u001b[0m \u001b[0m_raise_linalgerror_nonposdef\u001b[0m\u001b[0;34m(\u001b[0m\u001b[0merr\u001b[0m\u001b[0;34m,\u001b[0m \u001b[0mflag\u001b[0m\u001b[0;34m)\u001b[0m\u001b[0;34m:\u001b[0m\u001b[0;34m\u001b[0m\u001b[0;34m\u001b[0m\u001b[0m\n",
            "\u001b[0;31mLinAlgError\u001b[0m: Singular matrix"
          ]
        }
      ]
    }
  ]
}